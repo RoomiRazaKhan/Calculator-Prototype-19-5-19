{
 "cells": [
  {
   "cell_type": "code",
   "execution_count": null,
   "metadata": {},
   "outputs": [],
   "source": [
    "q1 = input ('what is your lovliest dish? ' '\\n')\n",
    "if q1 == 'biryani' or 'nihari':\n",
    "    print('hmmm......yummmmy')\n",
    "else:\n",
    "    print('really?')\n",
    "\n",
    "q2 = input ('what is your favorite place to go? ')\n",
    "\n",
    "print ( \"{0}\" ' i also want to go there \\n'.format(q2))\n",
    "\n",
    "q3 = input ('what comes after 1?\\n ')\n",
    "\n",
    "q4 = input ('are you sure \"{0}\" is the right answer?\\n '.format(q3))\n",
    "\n",
    "if q4 == 'yes':\n",
    "    print('your answer is right')\n",
    "else:\n",
    "     print('wrong answer try again')"
   ]
  },
  {
   "cell_type": "code",
   "execution_count": null,
   "metadata": {},
   "outputs": [],
   "source": []
  }
 ],
 "metadata": {
  "kernelspec": {
   "display_name": "Python 3",
   "language": "python",
   "name": "python3"
  },
  "language_info": {
   "codemirror_mode": {
    "name": "ipython",
    "version": 3
   },
   "file_extension": ".py",
   "mimetype": "text/x-python",
   "name": "python",
   "nbconvert_exporter": "python",
   "pygments_lexer": "ipython3",
   "version": "3.7.3"
  }
 },
 "nbformat": 4,
 "nbformat_minor": 2
}
