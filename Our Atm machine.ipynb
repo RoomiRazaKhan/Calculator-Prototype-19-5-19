{
 "cells": [
  {
   "cell_type": "code",
   "execution_count": 51,
   "metadata": {},
   "outputs": [
    {
     "name": "stdout",
     "output_type": "stream",
     "text": [
      "Enter your account title or number12345678\n",
      "Enter your 4_digit pin code 2345\n",
      "type 1 for acc status\n",
      "type 2 for withdraw\n",
      "type 3 for deposit\n",
      "type 4 for remaining balance\n",
      "4\n",
      "you current balance is \"200000000000000\"\n"
     ]
    }
   ],
   "source": [
    "acc_no = (input(\"Enter your account title or number\"))\n",
    "pin = int(input(\"Enter your 4_digit pin code \"))\n",
    "bal=200000000000000\n",
    "\n",
    "if acc_no == \"Syed Ahmed Raza\" or 12345678 and pin == 2345 :\n",
    "    print(\"type 1 for acc status\",end = '\\n')\n",
    "    print(\"type 2 for withdraw\",end = '\\n')\n",
    "    print(\"type 3 for deposit\",end = '\\n')\n",
    "    print(\"type 4 for remaining balance\",end = '\\n')\n",
    "    choice = int(input(\"\"))\n",
    "    if choice == 1 :\n",
    "        print(\"your account status is current account\")\n",
    "    elif choice == 2 :\n",
    "        withdraw = int(input(\" Enter ammount \"))\n",
    "        if withdraw < 1000 :\n",
    "            print(\"kindly increase your limit to standard limit\")\n",
    "            print(\"Standard limit = 1000\")\n",
    "        elif withdraw > bal:\n",
    "            print(\"insufficient balance\")\n",
    "        else: \n",
    "            bal = bal - withdraw\n",
    "            print(\"kindly collect your cash\")\n",
    "            print(f'your remaining balance is \"{bal}\"')\n",
    "    elif choice==3:\n",
    "        deposit=int(input(\"Enter Amount \"))\n",
    "        if deposit < 500:\n",
    "            print(\"Kindly Increase Your limit to Standard Limit\")\n",
    "            print(\"Standard Limit = 500\")\n",
    "        else:\n",
    "            bal = bal + deposit\n",
    "            print('your deposition is successful')\n",
    "            print(f'your total amount is \"{bal}\" ')\n",
    "    elif choice == 4:\n",
    "        print (f'you current balance is \"{bal}\"')\n",
    "    else:\n",
    "        print (' your selection may not be right')\n",
    "else:\n",
    "    print (' invalid account number or PIN')"
   ]
  },
  {
   "cell_type": "code",
   "execution_count": null,
   "metadata": {},
   "outputs": [],
   "source": []
  },
  {
   "cell_type": "code",
   "execution_count": null,
   "metadata": {},
   "outputs": [],
   "source": []
  }
 ],
 "metadata": {
  "kernelspec": {
   "display_name": "Python 3",
   "language": "python",
   "name": "python3"
  },
  "language_info": {
   "codemirror_mode": {
    "name": "ipython",
    "version": 3
   },
   "file_extension": ".py",
   "mimetype": "text/x-python",
   "name": "python",
   "nbconvert_exporter": "python",
   "pygments_lexer": "ipython3",
   "version": "3.7.3"
  }
 },
 "nbformat": 4,
 "nbformat_minor": 2
}
