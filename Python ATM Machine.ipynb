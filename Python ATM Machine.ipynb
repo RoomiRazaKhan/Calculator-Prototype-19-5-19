{
 "cells": [
  {
   "cell_type": "markdown",
   "metadata": {},
   "source": [
    "# ATM Machine"
   ]
  },
  {
   "cell_type": "markdown",
   "metadata": {},
   "source": [
    "# Coding By Me (Taimour) Under The Supervision Of Sir Nasir Hussain "
   ]
  },
  {
   "cell_type": "code",
   "execution_count": 31,
   "metadata": {},
   "outputs": [
    {
     "name": "stdout",
     "output_type": "stream",
     "text": [
      "Enter Your 8-digit Account Number 12345678\n",
      "Enter Your 4-digit Pin 1234\n",
      "Select Your Option\n",
      "1 for WithDraw\n",
      "2 for Deposit\n",
      "3 for Balance\n",
      "1\n",
      "Enter Amount 5000\n",
      "Kinldy Collect Cash\n",
      "Your Remaining Balance is 45000\n"
     ]
    }
   ],
   "source": [
    "Account_No=int(input(\"Enter Your 8-digit Account Number \")) # Account No=12345678\n",
    "Pin_Code=int(input(\"Enter Your 4-digit Pin \")) # Pin=1234\n",
    "a = 1000\n",
    "\n",
    "if Account_No==12345678 and Pin_Code==1234:\n",
    "    print(\"Select Your Option\",end='\\n')\n",
    "    print(\"1 for WithDraw\",end='\\n')\n",
    "    print(\"2 for Deposit\",end='\\n')\n",
    "    print(\"3 for Balance\",end='\\n')\n",
    "    choice=int(input(\"\"))\n",
    "    if choice==3:\n",
    "        print(f\"Your Balance is {b}\")\n",
    "    elif choice==1:\n",
    "        withdraw=int(input(\"Enter Amount \"))\n",
    "        if withdraw < 500:\n",
    "            print(\"Kindly Increase Your limit to Standard Limit\")\n",
    "            print(\"Standard Limit = 500\")\n",
    "        elif withdraw > b:\n",
    "            print(\"Insufficient Balance\")\n",
    "        else:\n",
    "            b=b-withdraw\n",
    "            print(\"Kinldy Collect Cash\")\n",
    "            print(f\"Your Remaining Balance is {b}\")\n",
    "    elif choice==2:\n",
    "        deposit=int(input(\"Enter Amount \"))\n",
    "        if deposit < 500:\n",
    "            print(\"Kindly Increase Your limit to Standard Limit\")\n",
    "            print(\"Standard Limit = 500\")\n",
    "        else:\n",
    "            b=b+deposit\n",
    "            print(f\"Your Remaining Balance is {b}\")\n",
    "    else:\n",
    "        print(\"Invalid Selection\")\n",
    "else:\n",
    "    print(\"Your Account Number or Pin is invalid\")\n",
    "    \n",
    "a = b\n"
   ]
  }
 ],
 "metadata": {
  "kernelspec": {
   "display_name": "Python 3",
   "language": "python",
   "name": "python3"
  },
  "language_info": {
   "codemirror_mode": {
    "name": "ipython",
    "version": 3
   },
   "file_extension": ".py",
   "mimetype": "text/x-python",
   "name": "python",
   "nbconvert_exporter": "python",
   "pygments_lexer": "ipython3",
   "version": "3.7.3"
  }
 },
 "nbformat": 4,
 "nbformat_minor": 2
}
