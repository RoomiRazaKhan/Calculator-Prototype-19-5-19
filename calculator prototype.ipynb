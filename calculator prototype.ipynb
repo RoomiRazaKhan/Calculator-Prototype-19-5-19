{
 "cells": [
  {
   "cell_type": "markdown",
   "metadata": {},
   "source": [
    "#CaculatorPrototype"
   ]
  },
  {
   "cell_type": "code",
   "execution_count": 9,
   "metadata": {},
   "outputs": [
    {
     "name": "stdout",
     "output_type": "stream",
     "text": [
      "enter value a10\n",
      "enter value b12\n",
      "function to apply?plus\n",
      "22\n"
     ]
    }
   ],
   "source": [
    "a = input ('enter value a ')\n",
    "b = input ('enter value b ')\n",
    "function = input ('function to apply? ')\n",
    "if function == 'add' or 'addition' or 'plus' or \"+\" :\n",
    "    print ( int (a) + int (b) )"
   ]
  },
  {
   "cell_type": "code",
   "execution_count": 11,
   "metadata": {},
   "outputs": [
    {
     "name": "stdout",
     "output_type": "stream",
     "text": [
      "enter value a 6\n",
      "enter value b 2\n",
      "function to apply? *\n",
      "12\n"
     ]
    }
   ],
   "source": [
    "a = input ('enter value a ')\n",
    "b = input ('enter value b ')\n",
    "function = input ('function to apply? ')\n",
    "if function == 'multiply' or '*' :\n",
    "    print ( int (a) * int (b) )"
   ]
  },
  {
   "cell_type": "code",
   "execution_count": 14,
   "metadata": {},
   "outputs": [
    {
     "name": "stdout",
     "output_type": "stream",
     "text": [
      "enter value a 6\n",
      "enter value b 2\n",
      "function to apply? divide\n",
      "3.0\n"
     ]
    }
   ],
   "source": [
    "a = input ('enter value a ')\n",
    "b = input ('enter value b ')\n",
    "function = input ('function to apply? ')\n",
    "if function == 'divide' :\n",
    "    print ( int (a) // int (b) )"
   ]
  },
  {
   "cell_type": "code",
   "execution_count": 35,
   "metadata": {},
   "outputs": [
    {
     "name": "stdout",
     "output_type": "stream",
     "text": [
      "enter value a 4\n",
      "enter value b 5\n",
      "function to apply? -\n",
      "-1\n"
     ]
    }
   ],
   "source": [
    "a = input ('enter value a ')\n",
    "\n",
    "b = input ('enter value b ')\n",
    "\n",
    "function = input ('function to apply? ')\n",
    "\n",
    "if function == '+' :\n",
    "    print ( int (a) + int (b) )\n",
    "\n",
    "elif function == '-' :\n",
    "    print ( int (a) - int (b) )\n",
    "\n",
    "elif function == '*' :\n",
    "    print ( int (a) * int (b) )\n",
    "\n",
    "elif function == '/' :\n",
    "    print ( int (a) // int (b) )\n",
    "    print ( int (a) / int (b) )\n",
    "\n",
    "elif function == '**' :\n",
    "    print ( int (a) ** int (b) )\n",
    "else :\n",
    "    print ('the function you entered are not corrrect please try using these symbols , + - * / ')"
   ]
  },
  {
   "cell_type": "code",
   "execution_count": null,
   "metadata": {},
   "outputs": [],
   "source": []
  }
 ],
 "metadata": {
  "kernelspec": {
   "display_name": "Python 3",
   "language": "python",
   "name": "python3"
  },
  "language_info": {
   "codemirror_mode": {
    "name": "ipython",
    "version": 3
   },
   "file_extension": ".py",
   "mimetype": "text/x-python",
   "name": "python",
   "nbconvert_exporter": "python",
   "pygments_lexer": "ipython3",
   "version": "3.7.3"
  }
 },
 "nbformat": 4,
 "nbformat_minor": 2
}
